{
 "cells": [
  {
   "cell_type": "code",
   "execution_count": null,
   "id": "8ea9998c",
   "metadata": {},
   "outputs": [],
   "source": [
    "from bs4 import BeautifulSoup\n",
    "import requests\n",
    "import pandas as pd\n",
    "import numpy as np"
   ]
  },
  {
   "cell_type": "code",
   "execution_count": null,
   "id": "baba1a36",
   "metadata": {},
   "outputs": [],
   "source": [
    "key = 'tDmcn3ZUmi4AshfL2fx58guDwaqt7%2BvOUYW%2B84DDNp4LvjUMJJYd38X0wis4cp2AVIuGbLSdHGeFx3Kta6YMQQ%3D%3D'\n",
    "page = '1'\n",
    "row = '30'"
   ]
  },
  {
   "cell_type": "code",
   "execution_count": null,
   "id": "2e08427d",
   "metadata": {},
   "outputs": [],
   "source": [
    "# 기간범위 : 200701 - 202107\n",
    "df_date = pd.date_range('20070101', '20210802', freq='M')\n",
    "df_date_list = df_date.strftime(\"%Y%m\").tolist()\n",
    "# 지사범위 200701(3~16), 202107(4~24)"
   ]
  },
  {
   "cell_type": "code",
   "execution_count": null,
   "id": "60848532",
   "metadata": {},
   "outputs": [],
   "source": [
    "id = []\n",
    "for i in range(3,25):\n",
    "    id.append(str(i))\n",
    "place = ['본사', '수원지사', '대구지사', '중앙지사(중앙)', '파주지사', '청주지사', '용인지사', '양산지사', '김해지사', '화성지사', '강남지사', '중앙지사(상암)', '분당지사', '고양지사', None, None, '삼송지사', '판교지사', '광교지사', '광주전남지사', '세종지사', '동탄지사']"
   ]
  },
  {
   "cell_type": "code",
   "execution_count": null,
   "id": "9e3fbc87",
   "metadata": {},
   "outputs": [],
   "source": [
    "df = pd.DataFrame(columns = ['id', 'place'])\n",
    "df.id = id\n",
    "df.place = place\n",
    "df = df.set_index('id', drop=False)"
   ]
  },
  {
   "cell_type": "code",
   "execution_count": null,
   "id": "9d272dcc",
   "metadata": {},
   "outputs": [],
   "source": [
    "# date1 = ['200701', '200702', '200703']"
   ]
  },
  {
   "cell_type": "code",
   "execution_count": null,
   "id": "1a3c99f2",
   "metadata": {},
   "outputs": [],
   "source": [
    "cnt = 0\n",
    "for date in df_date_list:\n",
    "    url = 'https://www.kdhc.co.kr/openapi-data/service/kdhcCarbon/carbon?serviceKey='+key+'&pageNo='+page+'&numOfRows='+row+'&brNm=%EB%B3%B8%EC%82%AC&startDate='+date+'&endDate='+date+''\n",
    "    req = requests.get(url)\n",
    "    soup = BeautifulSoup(req.content, \"html.parser\")\n",
    "    items = soup.find(\"items\")\n",
    "    \n",
    "    df_item = pd.DataFrame(columns = ['id', date])\n",
    "    i=0\n",
    "    for item in items.findAll(\"item\"):\n",
    "        name = date\n",
    "        df_item.loc[i] = [item.brsno.text, item.totemtco2eq.string]\n",
    "        i += 1\n",
    "    df_item = df_item.set_index('id')\n",
    "    df = df.join(df_item, how='left')\n",
    "    cnt += 1\n",
    "    print(cnt)"
   ]
  },
  {
   "cell_type": "code",
   "execution_count": null,
   "id": "537e2bc5",
   "metadata": {},
   "outputs": [],
   "source": [
    "df_item"
   ]
  },
  {
   "cell_type": "code",
   "execution_count": null,
   "id": "69cce1dc",
   "metadata": {},
   "outputs": [],
   "source": [
    "df"
   ]
  },
  {
   "cell_type": "code",
   "execution_count": null,
   "id": "71e44129",
   "metadata": {},
   "outputs": [],
   "source": [
    "df.to_excel('C:/Users/LimTH/Desktop/k-digital/파이널_5조/data1.xls', index=False)"
   ]
  }
 ],
 "metadata": {
  "kernelspec": {
   "display_name": "Python 3",
   "language": "python",
   "name": "python3"
  },
  "language_info": {
   "codemirror_mode": {
    "name": "ipython",
    "version": 3
   },
   "file_extension": ".py",
   "mimetype": "text/x-python",
   "name": "python",
   "nbconvert_exporter": "python",
   "pygments_lexer": "ipython3",
   "version": "3.6.4"
  }
 },
 "nbformat": 4,
 "nbformat_minor": 5
}
